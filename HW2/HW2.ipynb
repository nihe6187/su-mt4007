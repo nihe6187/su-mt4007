{
 "cells": [
  {
   "cell_type": "markdown",
   "id": "e76647bf-6020-456e-a5cf-93d575a85359",
   "metadata": {},
   "source": [
    "# Homework 2\n",
    "\n",
    "## Apartment Prices\n",
    "\n",
    "1. Calculation of the price per square meter (ppsqm) for each apartment sold.\n",
    "\n",
    "2. Ranking of the top 5 most expensive appartments w.r.t ppsqm.\n",
    "\n",
    "3. The avereage ppsqm in Ekhagen.\n",
    "\n",
    "4. Highlighting of an interesting aspect of the data.\n",
    "\n",
    "## The Swedish Election of 2018\n",
    "\n",
    "1. Calculation of the total number of legitimate votes (Giltiga Röster) in Stockholm during the election.\n",
    "   \n",
    "2. The municipality the social democratic party (Social demokraterna, S) garnered the hightest voting percentage.\n",
    "   \n",
    "3. Ranking of the (3) municipialities with highest participation (valdeltagande).\n",
    "\n",
    "## Predicting Strokes\n",
    "\n",
    "### A conclusion about the dataset \"stroke-data.csv\"."
   ]
  },
  {
   "cell_type": "code",
   "execution_count": null,
   "id": "64820564-90d8-4c18-a164-fa520a2e7e21",
   "metadata": {},
   "outputs": [],
   "source": []
  }
 ],
 "metadata": {
  "kernelspec": {
   "display_name": "Python 3 (ipykernel)",
   "language": "python",
   "name": "python3"
  },
  "language_info": {
   "codemirror_mode": {
    "name": "ipython",
    "version": 3
   },
   "file_extension": ".py",
   "mimetype": "text/x-python",
   "name": "python",
   "nbconvert_exporter": "python",
   "pygments_lexer": "ipython3",
   "version": "3.13.0"
  }
 },
 "nbformat": 4,
 "nbformat_minor": 5
}
