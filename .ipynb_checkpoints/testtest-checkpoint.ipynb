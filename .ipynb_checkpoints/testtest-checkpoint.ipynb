{
 "cells": [
  {
   "cell_type": "markdown",
   "id": "de157d83-5198-412a-b3f6-238ab14d837d",
   "metadata": {},
   "source": [
    "# A test.\n",
    "\n",
    "Test test."
   ]
  },
  {
   "cell_type": "markdown",
   "id": "ebbf6cde-0b06-44d6-9885-a2a11d7b0a2a",
   "metadata": {},
   "source": [
    "# Test again."
   ]
  }
 ],
 "metadata": {
  "kernelspec": {
   "display_name": "Python 3 (ipykernel)",
   "language": "python",
   "name": "python3"
  },
  "language_info": {
   "codemirror_mode": {
    "name": "ipython",
    "version": 3
   },
   "file_extension": ".py",
   "mimetype": "text/x-python",
   "name": "python",
   "nbconvert_exporter": "python",
   "pygments_lexer": "ipython3",
   "version": "3.9.20"
  }
 },
 "nbformat": 4,
 "nbformat_minor": 5
}
